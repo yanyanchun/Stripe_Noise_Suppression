{
  "nbformat": 4,
  "nbformat_minor": 0,
  "metadata": {
    "colab": {
      "name": "Stripe_Noise_Suppresion.ipynb",
      "provenance": [],
      "authorship_tag": "ABX9TyP0sI7glJmGf53xG0IDHbc9",
      "include_colab_link": true
    },
    "kernelspec": {
      "name": "python3",
      "display_name": "Python 3"
    }
  },
  "cells": [
    {
      "cell_type": "markdown",
      "metadata": {
        "id": "view-in-github",
        "colab_type": "text"
      },
      "source": [
        "<a href=\"https://colab.research.google.com/github/MTLSHUE/Stripe_Noise_Suppression/blob/master/Stripe_Noise_Suppresion.ipynb\" target=\"_parent\"><img src=\"https://colab.research.google.com/assets/colab-badge.svg\" alt=\"Open In Colab\"/></a>"
      ]
    },
    {
      "cell_type": "code",
      "metadata": {
        "id": "W7Y5-wLcc7fB",
        "colab_type": "code",
        "outputId": "adb8d520-bf9b-4d2c-c1d6-d0828e0dd0b7",
        "colab": {
          "base_uri": "https://localhost:8080/",
          "height": 34
        }
      },
      "source": [
        "import numpy as np\n",
        "import cv2\n",
        "\n",
        "Image = np.float32(cv2.imread('1.tif',-1))\n",
        "\n",
        "# Гауссово размытие:\n",
        "#ImageSmooth = cv2.GaussianBlur(Image,(0,0),1.5,1.5)\n",
        "# Билатеральный фильтр:\n",
        "ImageSmooth = cv2.bilateralFilter(Image, 9, 50, 50)\n",
        "\n",
        "ImageCorr = np.copy(Image)\n",
        "ImageCorr[ImageCorr==0] = 1\n",
        "\n",
        "StartRaw = int(ImageCorr.shape[0]/2)\n",
        "IterN = 4\n",
        "\n",
        "# Идем из середины вниз:\n",
        "for r in range(StartRaw, ImageCorr.shape[0]-1):\n",
        "    # Итеративный подбор дельты для каждой пары соседних столбцов, приравн. медиану их отношения к 1:\n",
        "    StepScale = 0.9\n",
        "    Step = 0.\n",
        "    ImageCorr[r,:] = ImageCorr[r,:]*np.median(ImageSmooth[r,:])/np.median(ImageCorr[r,:])\n",
        "    for i in range(IterN):\n",
        "        RawRatioMedian = np.median((ImageCorr[r+1,:] + Step)/ImageCorr[r,:])\n",
        "        Step += (1 - RawRatioMedian)*np.median(ImageCorr[r+1,:])*StepScale\n",
        "        StepScale = StepScale*0.9\n",
        "    ImageCorr[r+1,:] += Step\n",
        "\n",
        "# Идем из середины вверх:\n",
        "for r in range(1, StartRaw)[::-1]:\n",
        "    # Итеративный подбор дельты для каждой пары соседних столбцов, приравн. медиану их отношения к 1:\n",
        "    StepScale = 0.9\n",
        "    Step = 0.\n",
        "    ImageCorr[r,:] = ImageCorr[r,:]*np.median(ImageSmooth[r,:])/np.median(ImageCorr[r,:])\n",
        "    for i in range(IterN):\n",
        "        RawRatioMedian = np.median((ImageCorr[r-1,:] + Step)/ImageCorr[r,:])\n",
        "        Step += (1 - RawRatioMedian)*np.median(ImageCorr[r-1,:])*StepScale\n",
        "        StepScale = StepScale*0.9\n",
        "    ImageCorr[r-1,:] += Step\n",
        "\n",
        "cv2.imwrite('1_BilatFilt_Corr.tif', np.uint16(ImageCorr))"
      ],
      "execution_count": 0,
      "outputs": [
        {
          "output_type": "execute_result",
          "data": {
            "text/plain": [
              "True"
            ]
          },
          "metadata": {
            "tags": []
          },
          "execution_count": 5
        }
      ]
    },
    {
      "cell_type": "code",
      "metadata": {
        "id": "RZpCbtJednp1",
        "colab_type": "code",
        "colab": {}
      },
      "source": [
        ""
      ],
      "execution_count": 0,
      "outputs": []
    }
  ]
}
